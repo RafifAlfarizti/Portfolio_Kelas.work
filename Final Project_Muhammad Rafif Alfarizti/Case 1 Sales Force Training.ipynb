{
 "cells": [
  {
   "cell_type": "markdown",
   "id": "b06a746f",
   "metadata": {},
   "source": [
    "# Install Package"
   ]
  },
  {
   "cell_type": "code",
   "execution_count": 1,
   "id": "06d6a48e",
   "metadata": {},
   "outputs": [],
   "source": [
    "import pandas as pd\n",
    "import numpy as np"
   ]
  },
  {
   "cell_type": "markdown",
   "id": "a46330e1",
   "metadata": {},
   "source": [
    "# Membuat DataFrame"
   ]
  },
  {
   "cell_type": "markdown",
   "id": "63c44598",
   "metadata": {},
   "source": [
    "Membuat dataset dengan array dan disimpan dalam variabel dta <br>\n",
    "Cara 1: Membuat dataframe (Array)"
   ]
  },
  {
   "cell_type": "code",
   "execution_count": 4,
   "id": "5d4334d3",
   "metadata": {},
   "outputs": [
    {
     "data": {
      "text/html": [
       "<div>\n",
       "<style scoped>\n",
       "    .dataframe tbody tr th:only-of-type {\n",
       "        vertical-align: middle;\n",
       "    }\n",
       "\n",
       "    .dataframe tbody tr th {\n",
       "        vertical-align: top;\n",
       "    }\n",
       "\n",
       "    .dataframe thead th {\n",
       "        text-align: right;\n",
       "    }\n",
       "</style>\n",
       "<table border=\"1\" class=\"dataframe\">\n",
       "  <thead>\n",
       "    <tr style=\"text-align: right;\">\n",
       "      <th></th>\n",
       "      <th>Transaction Amount</th>\n",
       "    </tr>\n",
       "  </thead>\n",
       "  <tbody>\n",
       "    <tr>\n",
       "      <th>0</th>\n",
       "      <td>100</td>\n",
       "    </tr>\n",
       "    <tr>\n",
       "      <th>1</th>\n",
       "      <td>150</td>\n",
       "    </tr>\n",
       "    <tr>\n",
       "      <th>2</th>\n",
       "      <td>50</td>\n",
       "    </tr>\n",
       "    <tr>\n",
       "      <th>3</th>\n",
       "      <td>100</td>\n",
       "    </tr>\n",
       "    <tr>\n",
       "      <th>4</th>\n",
       "      <td>130</td>\n",
       "    </tr>\n",
       "    <tr>\n",
       "      <th>5</th>\n",
       "      <td>120</td>\n",
       "    </tr>\n",
       "    <tr>\n",
       "      <th>6</th>\n",
       "      <td>100</td>\n",
       "    </tr>\n",
       "    <tr>\n",
       "      <th>7</th>\n",
       "      <td>85</td>\n",
       "    </tr>\n",
       "    <tr>\n",
       "      <th>8</th>\n",
       "      <td>70</td>\n",
       "    </tr>\n",
       "    <tr>\n",
       "      <th>9</th>\n",
       "      <td>150</td>\n",
       "    </tr>\n",
       "    <tr>\n",
       "      <th>10</th>\n",
       "      <td>150</td>\n",
       "    </tr>\n",
       "    <tr>\n",
       "      <th>11</th>\n",
       "      <td>120</td>\n",
       "    </tr>\n",
       "    <tr>\n",
       "      <th>12</th>\n",
       "      <td>50</td>\n",
       "    </tr>\n",
       "    <tr>\n",
       "      <th>13</th>\n",
       "      <td>100</td>\n",
       "    </tr>\n",
       "    <tr>\n",
       "      <th>14</th>\n",
       "      <td>100</td>\n",
       "    </tr>\n",
       "    <tr>\n",
       "      <th>15</th>\n",
       "      <td>140</td>\n",
       "    </tr>\n",
       "    <tr>\n",
       "      <th>16</th>\n",
       "      <td>90</td>\n",
       "    </tr>\n",
       "    <tr>\n",
       "      <th>17</th>\n",
       "      <td>150</td>\n",
       "    </tr>\n",
       "    <tr>\n",
       "      <th>18</th>\n",
       "      <td>50</td>\n",
       "    </tr>\n",
       "    <tr>\n",
       "      <th>19</th>\n",
       "      <td>90</td>\n",
       "    </tr>\n",
       "    <tr>\n",
       "      <th>20</th>\n",
       "      <td>120</td>\n",
       "    </tr>\n",
       "    <tr>\n",
       "      <th>21</th>\n",
       "      <td>100</td>\n",
       "    </tr>\n",
       "    <tr>\n",
       "      <th>22</th>\n",
       "      <td>110</td>\n",
       "    </tr>\n",
       "    <tr>\n",
       "      <th>23</th>\n",
       "      <td>75</td>\n",
       "    </tr>\n",
       "    <tr>\n",
       "      <th>24</th>\n",
       "      <td>65</td>\n",
       "    </tr>\n",
       "  </tbody>\n",
       "</table>\n",
       "</div>"
      ],
      "text/plain": [
       "    Transaction Amount\n",
       "0                  100\n",
       "1                  150\n",
       "2                   50\n",
       "3                  100\n",
       "4                  130\n",
       "5                  120\n",
       "6                  100\n",
       "7                   85\n",
       "8                   70\n",
       "9                  150\n",
       "10                 150\n",
       "11                 120\n",
       "12                  50\n",
       "13                 100\n",
       "14                 100\n",
       "15                 140\n",
       "16                  90\n",
       "17                 150\n",
       "18                  50\n",
       "19                  90\n",
       "20                 120\n",
       "21                 100\n",
       "22                 110\n",
       "23                  75\n",
       "24                  65"
      ]
     },
     "execution_count": 4,
     "metadata": {},
     "output_type": "execute_result"
    }
   ],
   "source": [
    "dta=pd.DataFrame(np.array([100,150,50,100,130,120,100,85,70,150,150,120,50,100,100,140,90,150,50,90,120,100,110,75,65]),columns=['Transaction Amount'])\n",
    "dta"
   ]
  },
  {
   "cell_type": "markdown",
   "id": "f61ea7f9",
   "metadata": {},
   "source": [
    "Cara 2: Membuat dataframe (Dictionary)"
   ]
  },
  {
   "cell_type": "code",
   "execution_count": 16,
   "id": "96169b27",
   "metadata": {},
   "outputs": [
    {
     "data": {
      "text/html": [
       "<div>\n",
       "<style scoped>\n",
       "    .dataframe tbody tr th:only-of-type {\n",
       "        vertical-align: middle;\n",
       "    }\n",
       "\n",
       "    .dataframe tbody tr th {\n",
       "        vertical-align: top;\n",
       "    }\n",
       "\n",
       "    .dataframe thead th {\n",
       "        text-align: right;\n",
       "    }\n",
       "</style>\n",
       "<table border=\"1\" class=\"dataframe\">\n",
       "  <thead>\n",
       "    <tr style=\"text-align: right;\">\n",
       "      <th></th>\n",
       "      <th>Transaction Amount</th>\n",
       "    </tr>\n",
       "  </thead>\n",
       "  <tbody>\n",
       "    <tr>\n",
       "      <th>0</th>\n",
       "      <td>100</td>\n",
       "    </tr>\n",
       "    <tr>\n",
       "      <th>1</th>\n",
       "      <td>150</td>\n",
       "    </tr>\n",
       "    <tr>\n",
       "      <th>2</th>\n",
       "      <td>50</td>\n",
       "    </tr>\n",
       "    <tr>\n",
       "      <th>3</th>\n",
       "      <td>100</td>\n",
       "    </tr>\n",
       "    <tr>\n",
       "      <th>4</th>\n",
       "      <td>130</td>\n",
       "    </tr>\n",
       "    <tr>\n",
       "      <th>5</th>\n",
       "      <td>120</td>\n",
       "    </tr>\n",
       "    <tr>\n",
       "      <th>6</th>\n",
       "      <td>100</td>\n",
       "    </tr>\n",
       "    <tr>\n",
       "      <th>7</th>\n",
       "      <td>85</td>\n",
       "    </tr>\n",
       "    <tr>\n",
       "      <th>8</th>\n",
       "      <td>70</td>\n",
       "    </tr>\n",
       "    <tr>\n",
       "      <th>9</th>\n",
       "      <td>150</td>\n",
       "    </tr>\n",
       "    <tr>\n",
       "      <th>10</th>\n",
       "      <td>150</td>\n",
       "    </tr>\n",
       "    <tr>\n",
       "      <th>11</th>\n",
       "      <td>120</td>\n",
       "    </tr>\n",
       "    <tr>\n",
       "      <th>12</th>\n",
       "      <td>50</td>\n",
       "    </tr>\n",
       "    <tr>\n",
       "      <th>13</th>\n",
       "      <td>100</td>\n",
       "    </tr>\n",
       "    <tr>\n",
       "      <th>14</th>\n",
       "      <td>100</td>\n",
       "    </tr>\n",
       "    <tr>\n",
       "      <th>15</th>\n",
       "      <td>140</td>\n",
       "    </tr>\n",
       "    <tr>\n",
       "      <th>16</th>\n",
       "      <td>90</td>\n",
       "    </tr>\n",
       "    <tr>\n",
       "      <th>17</th>\n",
       "      <td>150</td>\n",
       "    </tr>\n",
       "    <tr>\n",
       "      <th>18</th>\n",
       "      <td>50</td>\n",
       "    </tr>\n",
       "    <tr>\n",
       "      <th>19</th>\n",
       "      <td>90</td>\n",
       "    </tr>\n",
       "    <tr>\n",
       "      <th>20</th>\n",
       "      <td>120</td>\n",
       "    </tr>\n",
       "    <tr>\n",
       "      <th>21</th>\n",
       "      <td>100</td>\n",
       "    </tr>\n",
       "    <tr>\n",
       "      <th>22</th>\n",
       "      <td>110</td>\n",
       "    </tr>\n",
       "    <tr>\n",
       "      <th>23</th>\n",
       "      <td>75</td>\n",
       "    </tr>\n",
       "    <tr>\n",
       "      <th>24</th>\n",
       "      <td>65</td>\n",
       "    </tr>\n",
       "  </tbody>\n",
       "</table>\n",
       "</div>"
      ],
      "text/plain": [
       "    Transaction Amount\n",
       "0                  100\n",
       "1                  150\n",
       "2                   50\n",
       "3                  100\n",
       "4                  130\n",
       "5                  120\n",
       "6                  100\n",
       "7                   85\n",
       "8                   70\n",
       "9                  150\n",
       "10                 150\n",
       "11                 120\n",
       "12                  50\n",
       "13                 100\n",
       "14                 100\n",
       "15                 140\n",
       "16                  90\n",
       "17                 150\n",
       "18                  50\n",
       "19                  90\n",
       "20                 120\n",
       "21                 100\n",
       "22                 110\n",
       "23                  75\n",
       "24                  65"
      ]
     },
     "execution_count": 16,
     "metadata": {},
     "output_type": "execute_result"
    }
   ],
   "source": [
    "dfa=pd.DataFrame({'Transaction Amount':[100,150,50,100,130,120,100,85,70,150,150,120,50,100,100,140,90,150,50,90,120,100,110,75,65]})\n",
    "dfa"
   ]
  },
  {
   "cell_type": "markdown",
   "id": "bc201289",
   "metadata": {},
   "source": [
    "Cara 3: Membuat dataframe (List)"
   ]
  },
  {
   "cell_type": "code",
   "execution_count": 21,
   "id": "8f1c0adb",
   "metadata": {
    "scrolled": true
   },
   "outputs": [
    {
     "data": {
      "text/html": [
       "<div>\n",
       "<style scoped>\n",
       "    .dataframe tbody tr th:only-of-type {\n",
       "        vertical-align: middle;\n",
       "    }\n",
       "\n",
       "    .dataframe tbody tr th {\n",
       "        vertical-align: top;\n",
       "    }\n",
       "\n",
       "    .dataframe thead th {\n",
       "        text-align: right;\n",
       "    }\n",
       "</style>\n",
       "<table border=\"1\" class=\"dataframe\">\n",
       "  <thead>\n",
       "    <tr style=\"text-align: right;\">\n",
       "      <th></th>\n",
       "      <th>Transaction Amount</th>\n",
       "    </tr>\n",
       "  </thead>\n",
       "  <tbody>\n",
       "    <tr>\n",
       "      <th>0</th>\n",
       "      <td>100</td>\n",
       "    </tr>\n",
       "    <tr>\n",
       "      <th>1</th>\n",
       "      <td>150</td>\n",
       "    </tr>\n",
       "    <tr>\n",
       "      <th>2</th>\n",
       "      <td>50</td>\n",
       "    </tr>\n",
       "    <tr>\n",
       "      <th>3</th>\n",
       "      <td>100</td>\n",
       "    </tr>\n",
       "    <tr>\n",
       "      <th>4</th>\n",
       "      <td>130</td>\n",
       "    </tr>\n",
       "    <tr>\n",
       "      <th>5</th>\n",
       "      <td>120</td>\n",
       "    </tr>\n",
       "    <tr>\n",
       "      <th>6</th>\n",
       "      <td>100</td>\n",
       "    </tr>\n",
       "    <tr>\n",
       "      <th>7</th>\n",
       "      <td>85</td>\n",
       "    </tr>\n",
       "    <tr>\n",
       "      <th>8</th>\n",
       "      <td>70</td>\n",
       "    </tr>\n",
       "    <tr>\n",
       "      <th>9</th>\n",
       "      <td>150</td>\n",
       "    </tr>\n",
       "    <tr>\n",
       "      <th>10</th>\n",
       "      <td>150</td>\n",
       "    </tr>\n",
       "    <tr>\n",
       "      <th>11</th>\n",
       "      <td>120</td>\n",
       "    </tr>\n",
       "    <tr>\n",
       "      <th>12</th>\n",
       "      <td>50</td>\n",
       "    </tr>\n",
       "    <tr>\n",
       "      <th>13</th>\n",
       "      <td>100</td>\n",
       "    </tr>\n",
       "    <tr>\n",
       "      <th>14</th>\n",
       "      <td>100</td>\n",
       "    </tr>\n",
       "    <tr>\n",
       "      <th>15</th>\n",
       "      <td>140</td>\n",
       "    </tr>\n",
       "    <tr>\n",
       "      <th>16</th>\n",
       "      <td>90</td>\n",
       "    </tr>\n",
       "    <tr>\n",
       "      <th>17</th>\n",
       "      <td>150</td>\n",
       "    </tr>\n",
       "    <tr>\n",
       "      <th>18</th>\n",
       "      <td>50</td>\n",
       "    </tr>\n",
       "    <tr>\n",
       "      <th>19</th>\n",
       "      <td>90</td>\n",
       "    </tr>\n",
       "    <tr>\n",
       "      <th>20</th>\n",
       "      <td>120</td>\n",
       "    </tr>\n",
       "    <tr>\n",
       "      <th>21</th>\n",
       "      <td>100</td>\n",
       "    </tr>\n",
       "    <tr>\n",
       "      <th>22</th>\n",
       "      <td>110</td>\n",
       "    </tr>\n",
       "    <tr>\n",
       "      <th>23</th>\n",
       "      <td>75</td>\n",
       "    </tr>\n",
       "    <tr>\n",
       "      <th>24</th>\n",
       "      <td>65</td>\n",
       "    </tr>\n",
       "  </tbody>\n",
       "</table>\n",
       "</div>"
      ],
      "text/plain": [
       "    Transaction Amount\n",
       "0                  100\n",
       "1                  150\n",
       "2                   50\n",
       "3                  100\n",
       "4                  130\n",
       "5                  120\n",
       "6                  100\n",
       "7                   85\n",
       "8                   70\n",
       "9                  150\n",
       "10                 150\n",
       "11                 120\n",
       "12                  50\n",
       "13                 100\n",
       "14                 100\n",
       "15                 140\n",
       "16                  90\n",
       "17                 150\n",
       "18                  50\n",
       "19                  90\n",
       "20                 120\n",
       "21                 100\n",
       "22                 110\n",
       "23                  75\n",
       "24                  65"
      ]
     },
     "execution_count": 21,
     "metadata": {},
     "output_type": "execute_result"
    }
   ],
   "source": [
    "dla=pd.DataFrame([100,150,50,100,130,120,100,85,70,150,150,120,50,100,100,140,90,150,50,90,120,100,110,75,65],columns=[\"Transaction Amount\"])\n",
    "dla"
   ]
  },
  {
   "cell_type": "code",
   "execution_count": 25,
   "id": "f38bcde9",
   "metadata": {},
   "outputs": [],
   "source": [
    "dla.to_excel(\"Transaction Amount.xlsx\", index=False)"
   ]
  },
  {
   "cell_type": "markdown",
   "id": "aaef4a23",
   "metadata": {},
   "source": [
    "# Measure of central tendency dan measure of variability"
   ]
  },
  {
   "cell_type": "code",
   "execution_count": 22,
   "id": "cc956dae",
   "metadata": {},
   "outputs": [
    {
     "data": {
      "text/html": [
       "<div>\n",
       "<style scoped>\n",
       "    .dataframe tbody tr th:only-of-type {\n",
       "        vertical-align: middle;\n",
       "    }\n",
       "\n",
       "    .dataframe tbody tr th {\n",
       "        vertical-align: top;\n",
       "    }\n",
       "\n",
       "    .dataframe thead th {\n",
       "        text-align: right;\n",
       "    }\n",
       "</style>\n",
       "<table border=\"1\" class=\"dataframe\">\n",
       "  <thead>\n",
       "    <tr style=\"text-align: right;\">\n",
       "      <th></th>\n",
       "      <th>Transaction Amount</th>\n",
       "    </tr>\n",
       "  </thead>\n",
       "  <tbody>\n",
       "    <tr>\n",
       "      <th>count</th>\n",
       "      <td>25.000000</td>\n",
       "    </tr>\n",
       "    <tr>\n",
       "      <th>mean</th>\n",
       "      <td>102.600000</td>\n",
       "    </tr>\n",
       "    <tr>\n",
       "      <th>std</th>\n",
       "      <td>31.823733</td>\n",
       "    </tr>\n",
       "    <tr>\n",
       "      <th>min</th>\n",
       "      <td>50.000000</td>\n",
       "    </tr>\n",
       "    <tr>\n",
       "      <th>25%</th>\n",
       "      <td>85.000000</td>\n",
       "    </tr>\n",
       "    <tr>\n",
       "      <th>50%</th>\n",
       "      <td>100.000000</td>\n",
       "    </tr>\n",
       "    <tr>\n",
       "      <th>75%</th>\n",
       "      <td>120.000000</td>\n",
       "    </tr>\n",
       "    <tr>\n",
       "      <th>max</th>\n",
       "      <td>150.000000</td>\n",
       "    </tr>\n",
       "  </tbody>\n",
       "</table>\n",
       "</div>"
      ],
      "text/plain": [
       "       Transaction Amount\n",
       "count           25.000000\n",
       "mean           102.600000\n",
       "std             31.823733\n",
       "min             50.000000\n",
       "25%             85.000000\n",
       "50%            100.000000\n",
       "75%            120.000000\n",
       "max            150.000000"
      ]
     },
     "execution_count": 22,
     "metadata": {},
     "output_type": "execute_result"
    }
   ],
   "source": [
    "dta.describe()"
   ]
  },
  {
   "cell_type": "markdown",
   "id": "e9c7d971",
   "metadata": {},
   "source": [
    "Berdasarkan output di atas, diperoleh jumlah baris dari data \"Transaction Amount\" adalah 25, rata rata nya adalah 102.6, nilai minimalnya 50 dan maksimalnya adalah 150 sehingga jangkauannya adalah 100. \n",
    "\n",
    "Berdasarkan output di atas juga diperoleh median datanya 100, nilai interkuartilnya 35 karena Q1=85 dan Q3=120, kemudian nilai standar deviasinya 31.823733 sehingga nilai variannya 1012,74998"
   ]
  },
  {
   "cell_type": "code",
   "execution_count": 42,
   "id": "58498460",
   "metadata": {},
   "outputs": [
    {
     "data": {
      "text/plain": [
       "[100]"
      ]
     },
     "execution_count": 42,
     "metadata": {},
     "output_type": "execute_result"
    }
   ],
   "source": [
    "import statistics\n",
    "statistics.multimode(dta[\"Transaction Amount\"])"
   ]
  },
  {
   "cell_type": "markdown",
   "id": "02c59686",
   "metadata": {},
   "source": [
    "Berdasarkan output di atas, diperoleh modus dari data \"Transaction Amount\" adalah 100"
   ]
  },
  {
   "cell_type": "code",
   "execution_count": 33,
   "id": "1b98cc32",
   "metadata": {},
   "outputs": [
    {
     "name": "stdout",
     "output_type": "stream",
     "text": [
      "<class 'pandas.core.frame.DataFrame'>\n",
      "RangeIndex: 25 entries, 0 to 24\n",
      "Data columns (total 1 columns):\n",
      " #   Column              Non-Null Count  Dtype\n",
      "---  ------              --------------  -----\n",
      " 0   Transaction Amount  25 non-null     int32\n",
      "dtypes: int32(1)\n",
      "memory usage: 232.0 bytes\n",
      "None\n",
      "\n",
      "(25, 1)\n"
     ]
    }
   ],
   "source": [
    "print(dta.info())\n",
    "print(\"\")\n",
    "print(dta.shape)"
   ]
  },
  {
   "cell_type": "markdown",
   "id": "a0ad7770",
   "metadata": {},
   "source": [
    "# Mencari data berdasarkan lokasi data"
   ]
  },
  {
   "cell_type": "markdown",
   "id": "2ead300d",
   "metadata": {},
   "source": [
    "Misalnya mencari data pada baris ke 13 dan data pada baris ke 15 sampai 18"
   ]
  },
  {
   "cell_type": "code",
   "execution_count": 39,
   "id": "9d4b1e74",
   "metadata": {},
   "outputs": [
    {
     "name": "stdout",
     "output_type": "stream",
     "text": [
      "100\n",
      "15    140\n",
      "16     90\n",
      "17    150\n",
      "18     50\n",
      "Name: Transaction Amount, dtype: int32\n"
     ]
    }
   ],
   "source": [
    "print(dta.iloc[13,0])\n",
    "print(dta.loc[15:18,\"Transaction Amount\"])"
   ]
  },
  {
   "cell_type": "markdown",
   "id": "1fc0ebb3",
   "metadata": {},
   "source": [
    "# T Test One tailed"
   ]
  },
  {
   "cell_type": "markdown",
   "id": "89cca8ef",
   "metadata": {},
   "source": [
    "## 1. Menentukan Hipotesis "
   ]
  },
  {
   "cell_type": "markdown",
   "id": "3c2cb504",
   "metadata": {},
   "source": [
    "H0:Rata rata Transaction Amount = 100 <br>\n",
    "H1:Rata rata Transaction Amoun > 100 <br>\n",
    "alpha=0.05"
   ]
  },
  {
   "cell_type": "code",
   "execution_count": 50,
   "id": "7d49490c",
   "metadata": {},
   "outputs": [
    {
     "name": "stdout",
     "output_type": "stream",
     "text": [
      "Defaulting to user installation because normal site-packages is not writeable\n",
      "Requirement already satisfied: scipy in c:\\programdata\\anaconda3\\lib\\site-packages (1.11.1)\n",
      "Requirement already satisfied: numpy<1.28.0,>=1.21.6 in c:\\programdata\\anaconda3\\lib\\site-packages (from scipy) (1.24.3)\n",
      "Note: you may need to restart the kernel to use updated packages.\n"
     ]
    },
    {
     "name": "stderr",
     "output_type": "stream",
     "text": [
      "\n",
      "[notice] A new release of pip is available: 23.3.1 -> 24.0\n",
      "[notice] To update, run: python.exe -m pip install --upgrade pip\n"
     ]
    }
   ],
   "source": [
    "pip install scipy"
   ]
  },
  {
   "cell_type": "markdown",
   "id": "23da5225",
   "metadata": {},
   "source": [
    "## 2. Menghitung Statistik Uji t"
   ]
  },
  {
   "cell_type": "code",
   "execution_count": 51,
   "id": "25676dfd",
   "metadata": {},
   "outputs": [
    {
     "data": {
      "text/plain": [
       "TtestResult(statistic=array([0.40850016]), pvalue=array([0.68652848]), df=array([24]))"
      ]
     },
     "execution_count": 51,
     "metadata": {},
     "output_type": "execute_result"
    }
   ],
   "source": [
    "from scipy import stats\n",
    "stats.ttest_1samp(a=dta, popmean=100)"
   ]
  },
  {
   "cell_type": "markdown",
   "id": "cf217a03",
   "metadata": {},
   "source": [
    "Berdasarkan output di atas, diperoleh nilai p-value=0.68652848 > alpha=0.05 sehingga H0 diterima "
   ]
  },
  {
   "cell_type": "markdown",
   "id": "f813e63c",
   "metadata": {},
   "source": [
    "## 3. Mencari t tabel untuk menentukan Kriteria uji"
   ]
  },
  {
   "cell_type": "markdown",
   "id": "b082523e",
   "metadata": {},
   "source": [
    "H0 ditolak jika t hitung > t tabel atau p value < alpha(0,05)"
   ]
  },
  {
   "cell_type": "code",
   "execution_count": 52,
   "id": "b2017685",
   "metadata": {},
   "outputs": [
    {
     "data": {
      "text/plain": [
       "1.7108820799094275"
      ]
     },
     "execution_count": 52,
     "metadata": {},
     "output_type": "execute_result"
    }
   ],
   "source": [
    "stats.t.ppf(1-0.05,24)"
   ]
  },
  {
   "cell_type": "markdown",
   "id": "d85a5069",
   "metadata": {},
   "source": [
    "## Keputusan dan Kesimpulan"
   ]
  },
  {
   "cell_type": "markdown",
   "id": "57ae3c82",
   "metadata": {},
   "source": [
    "Berdasarkan output sebelumnya dapat disimpulkan bahwa berdasarkan nilai t H0 diterima karena t hitung(0.40850016) < ttabel(1.7108820799094275) atau p-value (0.68652848) > alpha=0.05\n",
    "\n",
    "Berdasarkan hasil tersebut, dapat disimpulkan bahwa rata rata hasil penjualan pada perusahaan X tidak meningkat atau masih sama dengan 100. Artinya training  penjualan (sales force training) tidak efektif untuk meningkatkan hasil penjualan pada perusahaan X"
   ]
  },
  {
   "cell_type": "code",
   "execution_count": null,
   "id": "3b629adf",
   "metadata": {},
   "outputs": [],
   "source": []
  }
 ],
 "metadata": {
  "kernelspec": {
   "display_name": "Python 3 (ipykernel)",
   "language": "python",
   "name": "python3"
  },
  "language_info": {
   "codemirror_mode": {
    "name": "ipython",
    "version": 3
   },
   "file_extension": ".py",
   "mimetype": "text/x-python",
   "name": "python",
   "nbconvert_exporter": "python",
   "pygments_lexer": "ipython3",
   "version": "3.11.5"
  }
 },
 "nbformat": 4,
 "nbformat_minor": 5
}
